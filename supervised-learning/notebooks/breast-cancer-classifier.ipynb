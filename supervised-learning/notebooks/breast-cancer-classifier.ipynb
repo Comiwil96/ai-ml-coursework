{
 "cells": [
  {
   "cell_type": "markdown",
   "id": "eff4622d",
   "metadata": {},
   "source": [
    "### Breast Cancer Classifier\n",
    "\n",
    "This notebook explores three classic supervised learning algorithms—**K-Nearest Neighbors**, **Logistic Regression**, and **Decision Tree**—to classify breast cancer data from the Scikit-Learn library. We'll walk through preprocessing, training, evaluating, and comparing the models, with a focus on model performance and interpretability.\n",
    "\n",
    "By the end, you'll have a clear view of how each algorithm handles this biomedical classification task, and what trade-offs exist when choosing between them."
   ]
  }
 ],
 "metadata": {
  "language_info": {
   "name": "python"
  }
 },
 "nbformat": 4,
 "nbformat_minor": 5
}
