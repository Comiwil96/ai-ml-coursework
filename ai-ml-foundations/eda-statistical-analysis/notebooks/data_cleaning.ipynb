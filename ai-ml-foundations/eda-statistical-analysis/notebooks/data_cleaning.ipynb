{
 "cells": [
  {
   "cell_type": "markdown",
   "id": "08a4af0a-c74a-4e74-93ba-cda193dfb4c3",
   "metadata": {},
   "source": [
    "# Heart disease data cleaning\n",
    "\n",
    "This notebook demonstrates:\n",
    "\n",
    "- the ability to extract dataset from a CSV\n",
    "- the ability to inspect the data\n",
    "- the ability to clean the data. Since this data was large, we simply dropped rows with incomplete data as the focus is on data exploration."
   ]
  },
  {
   "cell_type": "code",
   "execution_count": 11,
   "id": "e7083265-d02e-4f61-9765-96289d509476",
   "metadata": {},
   "outputs": [],
   "source": [
    "# import pandas and define path for heart failure data\n",
    "import pandas as pd\n",
    "\n",
    "heart_failure_csv_path = '../data/heart_disease_uci.csv'"
   ]
  },
  {
   "cell_type": "code",
   "execution_count": 12,
   "id": "a4f357dd-e162-497f-b571-426b4fdc15d3",
   "metadata": {},
   "outputs": [],
   "source": [
    "# Define target column\n",
    "\n",
    "target_column = 'num'"
   ]
  },
  {
   "cell_type": "code",
   "execution_count": 13,
   "id": "3f3ddffe-5e54-4566-b79b-bef0fc88c648",
   "metadata": {},
   "outputs": [
    {
     "name": "stdout",
     "output_type": "stream",
     "text": [
      "Successfully loaded CSV file: ../data/heart_disease_uci.csv\n",
      "Loaded CSV shape: (920, 16)\n",
      "CSV columns found: ['id', 'age', 'sex', 'dataset', 'cp', 'trestbps', 'chol', 'fbs', 'restecg', 'thalch', 'exang', 'oldpeak', 'slope', 'ca', 'thal', 'num']\n"
     ]
    }
   ],
   "source": [
    "# load csv and split features and target \n",
    "\n",
    "try:\n",
    "    #read the CSV file\n",
    "    heart_failure_df = pd.read_csv(heart_failure_csv_path, sep=',')\n",
    "\n",
    "    print(f\"Successfully loaded CSV file: {heart_failure_csv_path}\")\n",
    "    print(f\"Loaded CSV shape: {heart_failure_df.shape}\")\n",
    "    print(f\"CSV columns found: {heart_failure_df.columns.tolist()}\")\n",
    "\n",
    "except FileNotFoundError:\n",
    "    print(f\"ERROR: CSV file not found at path: {heart_failure_csv_path}\")\n",
    "    print(\"Please double check the file path\")\n",
    "except Exception as e:\n",
    "    print(f\"An error occured loading or processing the CSV: {e}\")\n",
    "    print(\"Please check file path, format (is it truly CSV?), separator, header row, and column name.\") "
   ]
  },
  {
   "cell_type": "code",
   "execution_count": 14,
   "id": "be3930f7-371f-485d-8527-f93c0c47258c",
   "metadata": {},
   "outputs": [
    {
     "name": "stdout",
     "output_type": "stream",
     "text": [
      "<class 'pandas.core.frame.DataFrame'>\n",
      "RangeIndex: 920 entries, 0 to 919\n",
      "Data columns (total 16 columns):\n",
      " #   Column    Non-Null Count  Dtype  \n",
      "---  ------    --------------  -----  \n",
      " 0   id        920 non-null    int64  \n",
      " 1   age       920 non-null    int64  \n",
      " 2   sex       920 non-null    object \n",
      " 3   dataset   920 non-null    object \n",
      " 4   cp        920 non-null    object \n",
      " 5   trestbps  861 non-null    float64\n",
      " 6   chol      890 non-null    float64\n",
      " 7   fbs       830 non-null    object \n",
      " 8   restecg   918 non-null    object \n",
      " 9   thalch    865 non-null    float64\n",
      " 10  exang     865 non-null    object \n",
      " 11  oldpeak   858 non-null    float64\n",
      " 12  slope     611 non-null    object \n",
      " 13  ca        309 non-null    float64\n",
      " 14  thal      434 non-null    object \n",
      " 15  num       920 non-null    int64  \n",
      "dtypes: float64(5), int64(3), object(8)\n",
      "memory usage: 115.1+ KB\n",
      "None\n",
      "               id         age    trestbps        chol      thalch     oldpeak  \\\n",
      "count  920.000000  920.000000  861.000000  890.000000  865.000000  858.000000   \n",
      "mean   460.500000   53.510870  132.132404  199.130337  137.545665    0.878788   \n",
      "std    265.725422    9.424685   19.066070  110.780810   25.926276    1.091226   \n",
      "min      1.000000   28.000000    0.000000    0.000000   60.000000   -2.600000   \n",
      "25%    230.750000   47.000000  120.000000  175.000000  120.000000    0.000000   \n",
      "50%    460.500000   54.000000  130.000000  223.000000  140.000000    0.500000   \n",
      "75%    690.250000   60.000000  140.000000  268.000000  157.000000    1.500000   \n",
      "max    920.000000   77.000000  200.000000  603.000000  202.000000    6.200000   \n",
      "\n",
      "               ca         num  \n",
      "count  309.000000  920.000000  \n",
      "mean     0.676375    0.995652  \n",
      "std      0.935653    1.142693  \n",
      "min      0.000000    0.000000  \n",
      "25%      0.000000    0.000000  \n",
      "50%      0.000000    1.000000  \n",
      "75%      1.000000    2.000000  \n",
      "max      3.000000    4.000000  \n"
     ]
    }
   ],
   "source": [
    "# initial data analysis using descriptive statistics\n",
    "\n",
    "print(heart_failure_df.info())\n",
    "print(heart_failure_df.describe())"
   ]
  },
  {
   "cell_type": "code",
   "execution_count": 15,
   "id": "0a869564-2e02-4d79-9dce-6861c679a7fa",
   "metadata": {},
   "outputs": [
    {
     "name": "stdout",
     "output_type": "stream",
     "text": [
      "Numerical Columns\n",
      "\n",
      "id (920 unique values)\n",
      "[np.int64(1), np.int64(2), np.int64(3), np.int64(4), np.int64(5), np.int64(6), np.int64(7), np.int64(8), np.int64(9), np.int64(10), np.int64(11), np.int64(12), np.int64(13), np.int64(14), np.int64(15), np.int64(16), np.int64(17), np.int64(18), np.int64(19), np.int64(20), np.int64(21), np.int64(22), np.int64(23), np.int64(24), np.int64(25), np.int64(26), np.int64(27), np.int64(28), np.int64(29), np.int64(30), np.int64(31), np.int64(32), np.int64(33), np.int64(34), np.int64(35), np.int64(36), np.int64(37), np.int64(38), np.int64(39), np.int64(40), np.int64(41), np.int64(42), np.int64(43), np.int64(44), np.int64(45), np.int64(46), np.int64(47), np.int64(48), np.int64(49), np.int64(50), np.int64(51), np.int64(52), np.int64(53), np.int64(54), np.int64(55), np.int64(56), np.int64(57), np.int64(58), np.int64(59), np.int64(60), np.int64(61), np.int64(62), np.int64(63), np.int64(64), np.int64(65), np.int64(66), np.int64(67), np.int64(68), np.int64(69), np.int64(70), np.int64(71), np.int64(72), np.int64(73), np.int64(74), np.int64(75), np.int64(76), np.int64(77), np.int64(78), np.int64(79), np.int64(80), np.int64(81), np.int64(82), np.int64(83), np.int64(84), np.int64(85), np.int64(86), np.int64(87), np.int64(88), np.int64(89), np.int64(90), np.int64(91), np.int64(92), np.int64(93), np.int64(94), np.int64(95), np.int64(96), np.int64(97), np.int64(98), np.int64(99), np.int64(100), np.int64(101), np.int64(102), np.int64(103), np.int64(104), np.int64(105), np.int64(106), np.int64(107), np.int64(108), np.int64(109), np.int64(110), np.int64(111), np.int64(112), np.int64(113), np.int64(114), np.int64(115), np.int64(116), np.int64(117), np.int64(118), np.int64(119), np.int64(120), np.int64(121), np.int64(122), np.int64(123), np.int64(124), np.int64(125), np.int64(126), np.int64(127), np.int64(128), np.int64(129), np.int64(130), np.int64(131), np.int64(132), np.int64(133), np.int64(134), np.int64(135), np.int64(136), np.int64(137), np.int64(138), np.int64(139), np.int64(140), np.int64(141), np.int64(142), np.int64(143), np.int64(144), np.int64(145), np.int64(146), np.int64(147), np.int64(148), np.int64(149), np.int64(150), np.int64(151), np.int64(152), np.int64(153), np.int64(154), np.int64(155), np.int64(156), np.int64(157), np.int64(158), np.int64(159), np.int64(160), np.int64(161), np.int64(162), np.int64(163), np.int64(164), np.int64(165), np.int64(166), np.int64(167), np.int64(168), np.int64(169), np.int64(170), np.int64(171), np.int64(172), np.int64(173), np.int64(174), np.int64(175), np.int64(176), np.int64(177), np.int64(178), np.int64(179), np.int64(180), np.int64(181), np.int64(182), np.int64(183), np.int64(184), np.int64(185), np.int64(186), np.int64(187), np.int64(188), np.int64(189), np.int64(190), np.int64(191), np.int64(192), np.int64(193), np.int64(194), np.int64(195), np.int64(196), np.int64(197), np.int64(198), np.int64(199), np.int64(200), np.int64(201), np.int64(202), np.int64(203), np.int64(204), np.int64(205), np.int64(206), np.int64(207), np.int64(208), np.int64(209), np.int64(210), np.int64(211), np.int64(212), np.int64(213), np.int64(214), np.int64(215), np.int64(216), np.int64(217), np.int64(218), np.int64(219), np.int64(220), np.int64(221), np.int64(222), np.int64(223), np.int64(224), np.int64(225), np.int64(226), np.int64(227), np.int64(228), np.int64(229), np.int64(230), np.int64(231), np.int64(232), np.int64(233), np.int64(234), np.int64(235), np.int64(236), np.int64(237), np.int64(238), np.int64(239), np.int64(240), np.int64(241), np.int64(242), np.int64(243), np.int64(244), np.int64(245), np.int64(246), np.int64(247), np.int64(248), np.int64(249), np.int64(250), np.int64(251), np.int64(252), np.int64(253), np.int64(254), np.int64(255), np.int64(256), np.int64(257), np.int64(258), np.int64(259), np.int64(260), np.int64(261), np.int64(262), np.int64(263), np.int64(264), np.int64(265), np.int64(266), np.int64(267), np.int64(268), np.int64(269), np.int64(270), np.int64(271), np.int64(272), np.int64(273), np.int64(274), np.int64(275), np.int64(276), np.int64(277), np.int64(278), np.int64(279), np.int64(280), np.int64(281), np.int64(282), np.int64(283), np.int64(284), np.int64(285), np.int64(286), np.int64(287), np.int64(288), np.int64(289), np.int64(290), np.int64(291), np.int64(292), np.int64(293), np.int64(294), np.int64(295), np.int64(296), np.int64(297), np.int64(298), np.int64(299), np.int64(300), np.int64(301), np.int64(302), np.int64(303), np.int64(304), np.int64(305), np.int64(306), np.int64(307), np.int64(308), np.int64(309), np.int64(310), np.int64(311), np.int64(312), np.int64(313), np.int64(314), np.int64(315), np.int64(316), np.int64(317), np.int64(318), np.int64(319), np.int64(320), np.int64(321), np.int64(322), np.int64(323), np.int64(324), np.int64(325), np.int64(326), np.int64(327), np.int64(328), np.int64(329), np.int64(330), np.int64(331), np.int64(332), np.int64(333), np.int64(334), np.int64(335), np.int64(336), np.int64(337), np.int64(338), np.int64(339), np.int64(340), np.int64(341), np.int64(342), np.int64(343), np.int64(344), np.int64(345), np.int64(346), np.int64(347), np.int64(348), np.int64(349), np.int64(350), np.int64(351), np.int64(352), np.int64(353), np.int64(354), np.int64(355), np.int64(356), np.int64(357), np.int64(358), np.int64(359), np.int64(360), np.int64(361), np.int64(362), np.int64(363), np.int64(364), np.int64(365), np.int64(366), np.int64(367), np.int64(368), np.int64(369), np.int64(370), np.int64(371), np.int64(372), np.int64(373), np.int64(374), np.int64(375), np.int64(376), np.int64(377), np.int64(378), np.int64(379), np.int64(380), np.int64(381), np.int64(382), np.int64(383), np.int64(384), np.int64(385), np.int64(386), np.int64(387), np.int64(388), np.int64(389), np.int64(390), np.int64(391), np.int64(392), np.int64(393), np.int64(394), np.int64(395), np.int64(396), np.int64(397), np.int64(398), np.int64(399), np.int64(400), np.int64(401), np.int64(402), np.int64(403), np.int64(404), np.int64(405), np.int64(406), np.int64(407), np.int64(408), np.int64(409), np.int64(410), np.int64(411), np.int64(412), np.int64(413), np.int64(414), np.int64(415), np.int64(416), np.int64(417), np.int64(418), np.int64(419), np.int64(420), np.int64(421), np.int64(422), np.int64(423), np.int64(424), np.int64(425), np.int64(426), np.int64(427), np.int64(428), np.int64(429), np.int64(430), np.int64(431), np.int64(432), np.int64(433), np.int64(434), np.int64(435), np.int64(436), np.int64(437), np.int64(438), np.int64(439), np.int64(440), np.int64(441), np.int64(442), np.int64(443), np.int64(444), np.int64(445), np.int64(446), np.int64(447), np.int64(448), np.int64(449), np.int64(450), np.int64(451), np.int64(452), np.int64(453), np.int64(454), np.int64(455), np.int64(456), np.int64(457), np.int64(458), np.int64(459), np.int64(460), np.int64(461), np.int64(462), np.int64(463), np.int64(464), np.int64(465), np.int64(466), np.int64(467), np.int64(468), np.int64(469), np.int64(470), np.int64(471), np.int64(472), np.int64(473), np.int64(474), np.int64(475), np.int64(476), np.int64(477), np.int64(478), np.int64(479), np.int64(480), np.int64(481), np.int64(482), np.int64(483), np.int64(484), np.int64(485), np.int64(486), np.int64(487), np.int64(488), np.int64(489), np.int64(490), np.int64(491), np.int64(492), np.int64(493), np.int64(494), np.int64(495), np.int64(496), np.int64(497), np.int64(498), np.int64(499), np.int64(500), np.int64(501), np.int64(502), np.int64(503), np.int64(504), np.int64(505), np.int64(506), np.int64(507), np.int64(508), np.int64(509), np.int64(510), np.int64(511), np.int64(512), np.int64(513), np.int64(514), np.int64(515), np.int64(516), np.int64(517), np.int64(518), np.int64(519), np.int64(520), np.int64(521), np.int64(522), np.int64(523), np.int64(524), np.int64(525), np.int64(526), np.int64(527), np.int64(528), np.int64(529), np.int64(530), np.int64(531), np.int64(532), np.int64(533), np.int64(534), np.int64(535), np.int64(536), np.int64(537), np.int64(538), np.int64(539), np.int64(540), np.int64(541), np.int64(542), np.int64(543), np.int64(544), np.int64(545), np.int64(546), np.int64(547), np.int64(548), np.int64(549), np.int64(550), np.int64(551), np.int64(552), np.int64(553), np.int64(554), np.int64(555), np.int64(556), np.int64(557), np.int64(558), np.int64(559), np.int64(560), np.int64(561), np.int64(562), np.int64(563), np.int64(564), np.int64(565), np.int64(566), np.int64(567), np.int64(568), np.int64(569), np.int64(570), np.int64(571), np.int64(572), np.int64(573), np.int64(574), np.int64(575), np.int64(576), np.int64(577), np.int64(578), np.int64(579), np.int64(580), np.int64(581), np.int64(582), np.int64(583), np.int64(584), np.int64(585), np.int64(586), np.int64(587), np.int64(588), np.int64(589), np.int64(590), np.int64(591), np.int64(592), np.int64(593), np.int64(594), np.int64(595), np.int64(596), np.int64(597), np.int64(598), np.int64(599), np.int64(600), np.int64(601), np.int64(602), np.int64(603), np.int64(604), np.int64(605), np.int64(606), np.int64(607), np.int64(608), np.int64(609), np.int64(610), np.int64(611), np.int64(612), np.int64(613), np.int64(614), np.int64(615), np.int64(616), np.int64(617), np.int64(618), np.int64(619), np.int64(620), np.int64(621), np.int64(622), np.int64(623), np.int64(624), np.int64(625), np.int64(626), np.int64(627), np.int64(628), np.int64(629), np.int64(630), np.int64(631), np.int64(632), np.int64(633), np.int64(634), np.int64(635), np.int64(636), np.int64(637), np.int64(638), np.int64(639), np.int64(640), np.int64(641), np.int64(642), np.int64(643), np.int64(644), np.int64(645), np.int64(646), np.int64(647), np.int64(648), np.int64(649), np.int64(650), np.int64(651), np.int64(652), np.int64(653), np.int64(654), np.int64(655), np.int64(656), np.int64(657), np.int64(658), np.int64(659), np.int64(660), np.int64(661), np.int64(662), np.int64(663), np.int64(664), np.int64(665), np.int64(666), np.int64(667), np.int64(668), np.int64(669), np.int64(670), np.int64(671), np.int64(672), np.int64(673), np.int64(674), np.int64(675), np.int64(676), np.int64(677), np.int64(678), np.int64(679), np.int64(680), np.int64(681), np.int64(682), np.int64(683), np.int64(684), np.int64(685), np.int64(686), np.int64(687), np.int64(688), np.int64(689), np.int64(690), np.int64(691), np.int64(692), np.int64(693), np.int64(694), np.int64(695), np.int64(696), np.int64(697), np.int64(698), np.int64(699), np.int64(700), np.int64(701), np.int64(702), np.int64(703), np.int64(704), np.int64(705), np.int64(706), np.int64(707), np.int64(708), np.int64(709), np.int64(710), np.int64(711), np.int64(712), np.int64(713), np.int64(714), np.int64(715), np.int64(716), np.int64(717), np.int64(718), np.int64(719), np.int64(720), np.int64(721), np.int64(722), np.int64(723), np.int64(724), np.int64(725), np.int64(726), np.int64(727), np.int64(728), np.int64(729), np.int64(730), np.int64(731), np.int64(732), np.int64(733), np.int64(734), np.int64(735), np.int64(736), np.int64(737), np.int64(738), np.int64(739), np.int64(740), np.int64(741), np.int64(742), np.int64(743), np.int64(744), np.int64(745), np.int64(746), np.int64(747), np.int64(748), np.int64(749), np.int64(750), np.int64(751), np.int64(752), np.int64(753), np.int64(754), np.int64(755), np.int64(756), np.int64(757), np.int64(758), np.int64(759), np.int64(760), np.int64(761), np.int64(762), np.int64(763), np.int64(764), np.int64(765), np.int64(766), np.int64(767), np.int64(768), np.int64(769), np.int64(770), np.int64(771), np.int64(772), np.int64(773), np.int64(774), np.int64(775), np.int64(776), np.int64(777), np.int64(778), np.int64(779), np.int64(780), np.int64(781), np.int64(782), np.int64(783), np.int64(784), np.int64(785), np.int64(786), np.int64(787), np.int64(788), np.int64(789), np.int64(790), np.int64(791), np.int64(792), np.int64(793), np.int64(794), np.int64(795), np.int64(796), np.int64(797), np.int64(798), np.int64(799), np.int64(800), np.int64(801), np.int64(802), np.int64(803), np.int64(804), np.int64(805), np.int64(806), np.int64(807), np.int64(808), np.int64(809), np.int64(810), np.int64(811), np.int64(812), np.int64(813), np.int64(814), np.int64(815), np.int64(816), np.int64(817), np.int64(818), np.int64(819), np.int64(820), np.int64(821), np.int64(822), np.int64(823), np.int64(824), np.int64(825), np.int64(826), np.int64(827), np.int64(828), np.int64(829), np.int64(830), np.int64(831), np.int64(832), np.int64(833), np.int64(834), np.int64(835), np.int64(836), np.int64(837), np.int64(838), np.int64(839), np.int64(840), np.int64(841), np.int64(842), np.int64(843), np.int64(844), np.int64(845), np.int64(846), np.int64(847), np.int64(848), np.int64(849), np.int64(850), np.int64(851), np.int64(852), np.int64(853), np.int64(854), np.int64(855), np.int64(856), np.int64(857), np.int64(858), np.int64(859), np.int64(860), np.int64(861), np.int64(862), np.int64(863), np.int64(864), np.int64(865), np.int64(866), np.int64(867), np.int64(868), np.int64(869), np.int64(870), np.int64(871), np.int64(872), np.int64(873), np.int64(874), np.int64(875), np.int64(876), np.int64(877), np.int64(878), np.int64(879), np.int64(880), np.int64(881), np.int64(882), np.int64(883), np.int64(884), np.int64(885), np.int64(886), np.int64(887), np.int64(888), np.int64(889), np.int64(890), np.int64(891), np.int64(892), np.int64(893), np.int64(894), np.int64(895), np.int64(896), np.int64(897), np.int64(898), np.int64(899), np.int64(900), np.int64(901), np.int64(902), np.int64(903), np.int64(904), np.int64(905), np.int64(906), np.int64(907), np.int64(908), np.int64(909), np.int64(910), np.int64(911), np.int64(912), np.int64(913), np.int64(914), np.int64(915), np.int64(916), np.int64(917), np.int64(918), np.int64(919), np.int64(920)]\n",
      "\n",
      "age (50 unique values)\n",
      "[np.int64(28), np.int64(29), np.int64(30), np.int64(31), np.int64(32), np.int64(33), np.int64(34), np.int64(35), np.int64(36), np.int64(37), np.int64(38), np.int64(39), np.int64(40), np.int64(41), np.int64(42), np.int64(43), np.int64(44), np.int64(45), np.int64(46), np.int64(47), np.int64(48), np.int64(49), np.int64(50), np.int64(51), np.int64(52), np.int64(53), np.int64(54), np.int64(55), np.int64(56), np.int64(57), np.int64(58), np.int64(59), np.int64(60), np.int64(61), np.int64(62), np.int64(63), np.int64(64), np.int64(65), np.int64(66), np.int64(67), np.int64(68), np.int64(69), np.int64(70), np.int64(71), np.int64(72), np.int64(73), np.int64(74), np.int64(75), np.int64(76), np.int64(77)]\n",
      "\n",
      "trestbps (62 unique values)\n",
      "[np.float64(0.0), np.float64(80.0), np.float64(92.0), np.float64(94.0), np.float64(95.0), np.float64(96.0), np.float64(98.0), np.float64(100.0), np.float64(101.0), np.float64(102.0), np.float64(104.0), np.float64(105.0), np.float64(106.0), np.float64(108.0), np.float64(110.0), np.float64(112.0), np.float64(113.0), np.float64(114.0), np.float64(115.0), np.float64(116.0), np.float64(117.0), np.float64(118.0), np.float64(120.0), np.float64(122.0), np.float64(123.0), np.float64(124.0), np.float64(125.0), np.float64(126.0), np.float64(127.0), np.float64(128.0), np.float64(129.0), np.float64(130.0), np.float64(132.0), np.float64(134.0), np.float64(135.0), np.float64(136.0), np.float64(138.0), np.float64(140.0), np.float64(142.0), np.float64(144.0), np.float64(145.0), np.float64(146.0), np.float64(148.0), np.float64(150.0), np.float64(152.0), np.float64(154.0), np.float64(155.0), np.float64(156.0), np.float64(158.0), np.float64(160.0), np.float64(164.0), np.float64(165.0), np.float64(170.0), np.float64(172.0), np.float64(174.0), np.float64(178.0), np.float64(180.0), np.float64(185.0), np.float64(190.0), np.float64(192.0), np.float64(200.0), np.float64(nan)]\n",
      "\n",
      "chol (218 unique values)\n",
      "[np.float64(126.0), np.float64(131.0), np.float64(132.0), np.float64(147.0), np.float64(149.0), np.float64(157.0), np.float64(160.0), np.float64(161.0), np.float64(166.0), np.float64(169.0), np.float64(173.0), np.float64(176.0), np.float64(178.0), np.float64(180.0), np.float64(184.0), np.float64(187.0), np.float64(193.0), np.float64(194.0), np.float64(195.0), np.float64(196.0), np.float64(200.0), np.float64(207.0), np.float64(210.0), np.float64(214.0), np.float64(215.0), np.float64(218.0), np.float64(223.0), np.float64(228.0), np.float64(237.0), np.float64(238.0), np.float64(241.0), np.float64(242.0), np.float64(244.0), np.float64(259.0), np.float64(262.0), np.float64(271.0), np.float64(277.0), np.float64(278.0), np.float64(291.0), np.float64(292.0), np.float64(295.0), np.float64(297.0), np.float64(306.0), np.float64(311.0), np.float64(313.0), np.float64(315.0), np.float64(319.0), np.float64(327.0), np.float64(339.0), np.float64(342.0), np.float64(358.0), np.float64(394.0), np.float64(409.0), np.float64(nan), np.float64(0.0), np.float64(85.0), np.float64(100.0), np.float64(117.0), np.float64(129.0), np.float64(139.0), np.float64(141.0), np.float64(142.0), np.float64(153.0), np.float64(156.0), np.float64(163.0), np.float64(164.0), np.float64(165.0), np.float64(167.0), np.float64(168.0), np.float64(170.0), np.float64(171.0), np.float64(172.0), np.float64(174.0), np.float64(175.0), np.float64(177.0), np.float64(179.0), np.float64(181.0), np.float64(182.0), np.float64(183.0), np.float64(185.0), np.float64(186.0), np.float64(188.0), np.float64(190.0), np.float64(192.0), np.float64(197.0), np.float64(198.0), np.float64(199.0), np.float64(201.0), np.float64(202.0), np.float64(203.0), np.float64(204.0), np.float64(205.0), np.float64(206.0), np.float64(208.0), np.float64(209.0), np.float64(211.0), np.float64(212.0), np.float64(213.0), np.float64(216.0), np.float64(217.0), np.float64(219.0), np.float64(220.0), np.float64(221.0), np.float64(222.0), np.float64(224.0), np.float64(225.0), np.float64(226.0), np.float64(227.0), np.float64(229.0), np.float64(230.0), np.float64(231.0), np.float64(232.0), np.float64(233.0), np.float64(234.0), np.float64(235.0), np.float64(236.0), np.float64(239.0), np.float64(240.0), np.float64(243.0), np.float64(245.0), np.float64(246.0), np.float64(247.0), np.float64(248.0), np.float64(249.0), np.float64(250.0), np.float64(251.0), np.float64(252.0), np.float64(253.0), np.float64(254.0), np.float64(255.0), np.float64(256.0), np.float64(257.0), np.float64(258.0), np.float64(260.0), np.float64(261.0), np.float64(263.0), np.float64(264.0), np.float64(265.0), np.float64(266.0), np.float64(267.0), np.float64(268.0), np.float64(269.0), np.float64(270.0), np.float64(272.0), np.float64(273.0), np.float64(274.0), np.float64(275.0), np.float64(276.0), np.float64(279.0), np.float64(280.0), np.float64(281.0), np.float64(282.0), np.float64(283.0), np.float64(284.0), np.float64(285.0), np.float64(286.0), np.float64(287.0), np.float64(288.0), np.float64(289.0), np.float64(290.0), np.float64(293.0), np.float64(294.0), np.float64(298.0), np.float64(299.0), np.float64(300.0), np.float64(302.0), np.float64(303.0), np.float64(304.0), np.float64(305.0), np.float64(307.0), np.float64(308.0), np.float64(309.0), np.float64(310.0), np.float64(312.0), np.float64(316.0), np.float64(318.0), np.float64(320.0), np.float64(321.0), np.float64(322.0), np.float64(325.0), np.float64(326.0), np.float64(328.0), np.float64(329.0), np.float64(330.0), np.float64(331.0), np.float64(333.0), np.float64(335.0), np.float64(336.0), np.float64(337.0), np.float64(338.0), np.float64(340.0), np.float64(341.0), np.float64(344.0), np.float64(347.0), np.float64(349.0), np.float64(353.0), np.float64(354.0), np.float64(355.0), np.float64(360.0), np.float64(365.0), np.float64(369.0), np.float64(384.0), np.float64(385.0), np.float64(388.0), np.float64(392.0), np.float64(393.0), np.float64(404.0), np.float64(407.0), np.float64(412.0), np.float64(417.0), np.float64(458.0), np.float64(466.0), np.float64(468.0), np.float64(491.0), np.float64(518.0), np.float64(529.0), np.float64(564.0), np.float64(603.0)]\n",
      "\n",
      "thalch (120 unique values)\n",
      "[np.float64(60.0), np.float64(63.0), np.float64(67.0), np.float64(69.0), np.float64(70.0), np.float64(71.0), np.float64(72.0), np.float64(73.0), np.float64(77.0), np.float64(78.0), np.float64(80.0), np.float64(82.0), np.float64(83.0), np.float64(84.0), np.float64(86.0), np.float64(87.0), np.float64(88.0), np.float64(90.0), np.float64(91.0), np.float64(92.0), np.float64(93.0), np.float64(94.0), np.float64(95.0), np.float64(96.0), np.float64(97.0), np.float64(98.0), np.float64(99.0), np.float64(100.0), np.float64(102.0), np.float64(103.0), np.float64(104.0), np.float64(105.0), np.float64(106.0), np.float64(107.0), np.float64(108.0), np.float64(109.0), np.float64(110.0), np.float64(111.0), np.float64(112.0), np.float64(113.0), np.float64(114.0), np.float64(115.0), np.float64(116.0), np.float64(117.0), np.float64(118.0), np.float64(119.0), np.float64(120.0), np.float64(121.0), np.float64(122.0), np.float64(123.0), np.float64(124.0), np.float64(125.0), np.float64(126.0), np.float64(127.0), np.float64(128.0), np.float64(129.0), np.float64(130.0), np.float64(131.0), np.float64(132.0), np.float64(133.0), np.float64(134.0), np.float64(135.0), np.float64(136.0), np.float64(137.0), np.float64(138.0), np.float64(139.0), np.float64(140.0), np.float64(141.0), np.float64(142.0), np.float64(143.0), np.float64(144.0), np.float64(145.0), np.float64(146.0), np.float64(147.0), np.float64(148.0), np.float64(149.0), np.float64(150.0), np.float64(151.0), np.float64(152.0), np.float64(153.0), np.float64(154.0), np.float64(155.0), np.float64(156.0), np.float64(157.0), np.float64(158.0), np.float64(159.0), np.float64(160.0), np.float64(161.0), np.float64(162.0), np.float64(163.0), np.float64(164.0), np.float64(165.0), np.float64(166.0), np.float64(167.0), np.float64(168.0), np.float64(169.0), np.float64(170.0), np.float64(171.0), np.float64(172.0), np.float64(173.0), np.float64(174.0), np.float64(175.0), np.float64(176.0), np.float64(177.0), np.float64(178.0), np.float64(179.0), np.float64(180.0), np.float64(181.0), np.float64(182.0), np.float64(184.0), np.float64(185.0), np.float64(186.0), np.float64(187.0), np.float64(188.0), np.float64(190.0), np.float64(192.0), np.float64(194.0), np.float64(195.0), np.float64(202.0), np.float64(nan)]\n",
      "\n",
      "oldpeak (54 unique values)\n",
      "[np.float64(-2.6), np.float64(-2.0), np.float64(-1.5), np.float64(-1.1), np.float64(-1.0), np.float64(-0.9), np.float64(-0.8), np.float64(-0.7), np.float64(-0.5), np.float64(-0.1), np.float64(0.0), np.float64(0.1), np.float64(0.2), np.float64(0.3), np.float64(0.4), np.float64(0.5), np.float64(0.6), np.float64(0.7), np.float64(0.8), np.float64(0.9), np.float64(1.0), np.float64(1.1), np.float64(1.2), np.float64(1.3), np.float64(1.4), np.float64(1.5), np.float64(1.6), np.float64(1.7), np.float64(1.8), np.float64(1.9), np.float64(2.0), np.float64(2.1), np.float64(2.2), np.float64(2.3), np.float64(2.4), np.float64(2.5), np.float64(2.6), np.float64(2.8), np.float64(2.9), np.float64(3.0), np.float64(3.1), np.float64(3.2), np.float64(3.4), np.float64(3.5), np.float64(3.6), np.float64(3.7), np.float64(3.8), np.float64(4.0), np.float64(4.2), np.float64(4.4), np.float64(5.0), np.float64(5.6), np.float64(6.2), np.float64(nan)]\n",
      "\n",
      "ca (5 unique values)\n",
      "[np.float64(0.0), np.float64(1.0), np.float64(2.0), np.float64(3.0), np.float64(nan)]\n",
      "\n",
      "num (5 unique values)\n",
      "[np.int64(0), np.int64(1), np.int64(2), np.int64(3), np.int64(4)]\n",
      "Categorical Columns\n",
      "\n",
      "sex - Value Counts\n",
      "sex\n",
      "Male      726\n",
      "Female    194\n",
      "Name: count, dtype: int64\n",
      "\n",
      "dataset - Value Counts\n",
      "dataset\n",
      "Cleveland        304\n",
      "Hungary          293\n",
      "VA Long Beach    200\n",
      "Switzerland      123\n",
      "Name: count, dtype: int64\n",
      "\n",
      "cp - Value Counts\n",
      "cp\n",
      "asymptomatic       496\n",
      "non-anginal        204\n",
      "atypical angina    174\n",
      "typical angina      46\n",
      "Name: count, dtype: int64\n",
      "\n",
      "fbs - Value Counts\n",
      "fbs\n",
      "False    692\n",
      "True     138\n",
      "NaN       90\n",
      "Name: count, dtype: int64\n",
      "\n",
      "restecg - Value Counts\n",
      "restecg\n",
      "normal              551\n",
      "lv hypertrophy      188\n",
      "st-t abnormality    179\n",
      "NaN                   2\n",
      "Name: count, dtype: int64\n",
      "\n",
      "exang - Value Counts\n",
      "exang\n",
      "False    528\n",
      "True     337\n",
      "NaN       55\n",
      "Name: count, dtype: int64\n",
      "\n",
      "slope - Value Counts\n",
      "slope\n",
      "flat           345\n",
      "NaN            309\n",
      "upsloping      203\n",
      "downsloping     63\n",
      "Name: count, dtype: int64\n",
      "\n",
      "thal - Value Counts\n",
      "thal\n",
      "NaN                   486\n",
      "normal                196\n",
      "reversable defect     191\n",
      "fixed defect           46\n",
      "reversable defEect      1\n",
      "Name: count, dtype: int64\n"
     ]
    }
   ],
   "source": [
    "# explore missing values for cleaning\n",
    "\n",
    "def print_unique_values(df):\n",
    "    numerical_cols = df.select_dtypes(include=['int64', 'float64']).columns\n",
    "    categorical_cols = df.select_dtypes(include=['object']).columns\n",
    "\n",
    "    print(\"Numerical Columns\")\n",
    "    for col in numerical_cols:\n",
    "        unique_vals = sorted(df[col].unique())\n",
    "        print(f\"\\n{col} ({len(unique_vals)} unique values)\")\n",
    "        print(unique_vals)\n",
    "\n",
    "    print(\"Categorical Columns\")\n",
    "    for col in categorical_cols:\n",
    "        print(f\"\\n{col} - Value Counts\")\n",
    "        print(df[col].value_counts(dropna=False))\n",
    "\n",
    "print_unique_values(heart_failure_df)"
   ]
  },
  {
   "cell_type": "markdown",
   "id": "57e1bffa-892d-4f67-a701-1cc25cf27764",
   "metadata": {},
   "source": [
    "### Notes from analysis:\n",
    "\n",
    "##### 1) trestbps and chol have 2 forms of missing values: nan and 0.0. It is physiologically impossible for a living patient to have a resting blood pressure or cholesterol level of 0.\n",
    "##### 2) all other missing value types are nan\n",
    "##### 3) presence of heart disease is labeled 0 (no presence) or 1-4 (presence), need to create simple binary output, 0 for no presence and 1 for presence\n",
    "\n",
    "#### As the focus of this is visualization of data and statistical analysis, rows with data missing will just be dropped."
   ]
  },
  {
   "cell_type": "code",
   "execution_count": 16,
   "id": "1a2ee9aa-f0b4-46c6-ab88-1ee9d7bf4718",
   "metadata": {},
   "outputs": [
    {
     "name": "stdout",
     "output_type": "stream",
     "text": [
      "Removed 621 rows with missing values.\n",
      "Dataframe shape is: (299, 16)\n"
     ]
    }
   ],
   "source": [
    "# drop rows with any missing values\n",
    "rows_before = heart_failure_df.shape[0]\n",
    "heart_failure_df.dropna(inplace=True)\n",
    "heart_failure_df = heart_failure_df[(heart_failure_df['trestbps'] != 0.0) & (heart_failure_df['chol'] != 0.0)]\n",
    "rows_after = heart_failure_df.shape[0]\n",
    "print(f\"Removed {rows_before - rows_after} rows with missing values.\")\n",
    "print(f\"Dataframe shape is: {heart_failure_df.shape}\")"
   ]
  },
  {
   "cell_type": "code",
   "execution_count": 17,
   "id": "744beba8-11ec-45cd-8d41-ca32f8199799",
   "metadata": {},
   "outputs": [
    {
     "name": "stdout",
     "output_type": "stream",
     "text": [
      "Missing values after cleaning:\n",
      "id          0\n",
      "age         0\n",
      "sex         0\n",
      "dataset     0\n",
      "cp          0\n",
      "trestbps    0\n",
      "chol        0\n",
      "fbs         0\n",
      "restecg     0\n",
      "thalch      0\n",
      "exang       0\n",
      "oldpeak     0\n",
      "slope       0\n",
      "ca          0\n",
      "thal        0\n",
      "num         0\n",
      "dtype: int64\n",
      "No duplicate rows found.\n"
     ]
    }
   ],
   "source": [
    "# check that there are no missing values\n",
    "print(\"Missing values after cleaning:\")\n",
    "print(heart_failure_df.isnull().sum())\n",
    "# check for duplicates\n",
    "duplicates = heart_failure_df.duplicated().sum()\n",
    "if duplicates > 0:\n",
    "    print(f\"Found {duplicates} duplicate rows.\")\n",
    "    heart_failure_df.drop_duplicates(inplace=True)\n",
    "    print(f\"Removed {duplicates} duplicate rows.\")\n",
    "else:\n",
    "    print(\"No duplicate rows found.\")"
   ]
  },
  {
   "cell_type": "code",
   "execution_count": 18,
   "id": "cf0027b8",
   "metadata": {},
   "outputs": [
    {
     "name": "stdout",
     "output_type": "stream",
     "text": [
      "Target column 'num' is not binary. It has 5 unique values.\n"
     ]
    }
   ],
   "source": [
    "# check to see if the target column is binary\n",
    "if heart_failure_df[target_column].nunique() > 2:\n",
    "    print(f\"Target column '{target_column}' is not binary. It has {heart_failure_df[target_column].nunique()} unique values.\")\n",
    "else:\n",
    "    print(f\"Target column '{target_column}' is binary. It has {heart_failure_df[target_column].nunique()} unique values.\")"
   ]
  },
  {
   "cell_type": "code",
   "execution_count": 19,
   "id": "0cf88729",
   "metadata": {},
   "outputs": [
    {
     "name": "stdout",
     "output_type": "stream",
     "text": [
      "Converted 'num' column to binary values.\n",
      "num\n",
      "0    160\n",
      "1    139\n",
      "Name: count, dtype: int64\n"
     ]
    }
   ],
   "source": [
    "# Convert \"num\" column values to binary (0 or 1)\n",
    "heart_failure_df['num'] = heart_failure_df['num'].apply(lambda x: 0 if x == 0 else 1)\n",
    "print(\"Converted 'num' column to binary values.\")\n",
    "print(heart_failure_df['num'].value_counts())"
   ]
  },
  {
   "cell_type": "code",
   "execution_count": 20,
   "id": "f761d612",
   "metadata": {},
   "outputs": [
    {
     "name": "stdout",
     "output_type": "stream",
     "text": [
      "Final cleaned dataset info:\n",
      "<class 'pandas.core.frame.DataFrame'>\n",
      "Index: 299 entries, 0 to 748\n",
      "Data columns (total 16 columns):\n",
      " #   Column    Non-Null Count  Dtype  \n",
      "---  ------    --------------  -----  \n",
      " 0   id        299 non-null    int64  \n",
      " 1   age       299 non-null    int64  \n",
      " 2   sex       299 non-null    object \n",
      " 3   dataset   299 non-null    object \n",
      " 4   cp        299 non-null    object \n",
      " 5   trestbps  299 non-null    float64\n",
      " 6   chol      299 non-null    float64\n",
      " 7   fbs       299 non-null    object \n",
      " 8   restecg   299 non-null    object \n",
      " 9   thalch    299 non-null    float64\n",
      " 10  exang     299 non-null    object \n",
      " 11  oldpeak   299 non-null    float64\n",
      " 12  slope     299 non-null    object \n",
      " 13  ca        299 non-null    float64\n",
      " 14  thal      299 non-null    object \n",
      " 15  num       299 non-null    int64  \n",
      "dtypes: float64(5), int64(3), object(8)\n",
      "memory usage: 39.7+ KB\n",
      "None\n",
      "Final cleaned dataset shape:\n",
      "(299, 16)\n",
      "heart_failure_df.describe():\n",
      "Cleaned dataset saved to: ../data/heart_disease_uci_cleaned.csv\n"
     ]
    }
   ],
   "source": [
    "# final check for cleaned dataset\n",
    "print(\"Final cleaned dataset info:\")\n",
    "print(heart_failure_df.info())\n",
    "print(\"Final cleaned dataset shape:\")\n",
    "print(heart_failure_df.shape)\n",
    "print(\"heart_failure_df.describe():\")\n",
    "# save cleaned dataset to CSV\n",
    "cleaned_heart_failure_csv_path = '../data/heart_disease_uci_cleaned.csv'\n",
    "try:\n",
    "    heart_failure_df.to_csv(cleaned_heart_failure_csv_path, index=False)\n",
    "    print(f\"Cleaned dataset saved to: {cleaned_heart_failure_csv_path}\")\n",
    "except Exception as e:\n",
    "    print(f\"An error occurred while saving the cleaned dataset: {e}\")\n",
    "    print(\"Please check file path and permissions.\")"
   ]
  }
 ],
 "metadata": {
  "kernelspec": {
   "display_name": "Python [conda env:anaconda3]",
   "language": "python",
   "name": "conda-env-anaconda3-py"
  },
  "language_info": {
   "codemirror_mode": {
    "name": "ipython",
    "version": 3
   },
   "file_extension": ".py",
   "mimetype": "text/x-python",
   "name": "python",
   "nbconvert_exporter": "python",
   "pygments_lexer": "ipython3",
   "version": "3.12.7"
  }
 },
 "nbformat": 4,
 "nbformat_minor": 5
}
